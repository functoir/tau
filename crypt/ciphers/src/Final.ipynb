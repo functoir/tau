{
 "cells": [
  {
   "cell_type": "markdown",
   "metadata": {},
   "source": [
    "# Workbook for Final Cipher Challenge\n"
   ]
  },
  {
   "cell_type": "code",
   "execution_count": 32,
   "metadata": {
    "vscode": {
     "languageId": "haskell"
    }
   },
   "outputs": [],
   "source": [
    ":l Ciphers\n",
    "{-# LANGUAGE ImportQualifiedPost #-}\n",
    "import Ciphers qualified\n",
    "import Ciphers.SubstitutionCipher\n",
    "import Ciphers.SubstitutionCipher qualified as SC\n",
    "import Ciphers.AbstractAlgebra qualified as Abs\n",
    "import Ciphers.Common qualified as Common\n",
    "import Ciphers.RSA qualified as RSA\n",
    "import Ciphers.ShiftCipher qualified as ShiftCipher\n",
    "import Ciphers.VigenereCipher qualified as VigenereCipher\n",
    "import Ciphers.AffineCipher qualified as AffineCipher\n",
    "\n",
    "import Control.Monad (forM_)\n",
    "import Data.Foldable (foldl')\n",
    "import Text.Printf (printf)\n",
    "import Data.Char(isDigit)"
   ]
  },
  {
   "cell_type": "markdown",
   "metadata": {},
   "source": [
    "# 1. Substitution Cipher"
   ]
  },
  {
   "cell_type": "code",
   "execution_count": 2,
   "metadata": {
    "vscode": {
     "languageId": "haskell"
    }
   },
   "outputs": [
    {
     "data": {
      "text/plain": [
       "OVDKLJOODKBPLABZGUFVDKLACVQLKBZVWLJJVGVLYBZVZUJJQLKBZVJLYVSUYVDTL\n",
       "FVZVKDYOBZVJLRDJLYVCIZLJLFVZVKGUFVDKLACVGUFVDKLACVIUBZDIUJJQLKBZV\n",
       "CLYCLQLJOODKBPLABZQLKBZVODAGZBVKCLQODKBPLABZBZLAGZKLAYOBZVGUKOJVO\n",
       "VDKBZBZVRKLDPZVKCSVJJLYBZVPKVPDUYCBZVRZDFVBZVCBUJJYLKBZUYBZVUKZVD\n",
       "KBCBZVZUJJIUYOCUYBZVUKFVUYCDYOBZVGKDYUBVLQYVIZDPSCZUKVUYBZVUKPACW\n",
       "JVCDYOBZVUKTKDUYCDZUYBQLKWUSZVKCUHUCBZVLKOVKLQQUFVPLOAJLSUCCPDJJ"
      ]
     },
     "metadata": {},
     "output_type": "display_data"
    }
   ],
   "source": [
    "-- preview ciphertext\n",
    "ciphertext = cp\n",
    "print' ciphertext"
   ]
  },
  {
   "cell_type": "code",
   "execution_count": 3,
   "metadata": {
    "vscode": {
     "languageId": "haskell"
    }
   },
   "outputs": [
    {
     "data": {
      "text/plain": [
       "['V': 12.853470437017995\n",
       ",'Z': 10.025706940874036\n",
       ",'L': 8.740359897172237\n",
       ",'B': 8.483290488431876\n",
       ",'K': 8.483290488431876\n",
       ",'U': 7.455012853470437\n",
       ",'D': 6.169665809768637\n",
       ",'J': 5.912596401028278\n",
       ",'C': 5.3984575835475574\n",
       ",'Y': 5.3984575835475574\n",
       ",'O': 4.113110539845758\n",
       ",'A': 2.827763496143959\n",
       ",'P': 2.570694087403599\n",
       ",'Q': 2.570694087403599\n",
       ",'F': 2.056555269922879\n",
       ",'G': 2.056555269922879\n",
       ",'I': 1.2853470437017995\n",
       ",'S': 1.2853470437017995\n",
       ",'R': 0.7712082262210797\n",
       ",'W': 0.7712082262210797\n",
       ",'T': 0.5141388174807198\n",
       ",'H': 0.2570694087403599\n",
       "]"
      ]
     },
     "metadata": {},
     "output_type": "display_data"
    }
   ],
   "source": [
    "-- view frequencies\n",
    "frequencies ciphertext"
   ]
  },
  {
   "cell_type": "code",
   "execution_count": 4,
   "metadata": {
    "vscode": {
     "languageId": "haskell"
    }
   },
   "outputs": [
    {
     "data": {
      "text/plain": [
       "\"BZV\": 4.651162790697675\n",
       "\"KBZ\": 1.550387596899225\n",
       "\"VDK\": 1.550387596899225\n",
       "\"DKB\": 1.2919896640826873\n",
       "\"LKB\": 1.2919896640826873\n",
       "\"QLK\": 1.2919896640826873\n",
       "\"YBZ\": 1.2919896640826873\n",
       "\"DKL\": 1.0335917312661498\n",
       "\"KLA\": 1.0335917312661498\n",
       "\"OBZ\": 1.0335917312661498"
      ]
     },
     "metadata": {},
     "output_type": "display_data"
    }
   ],
   "source": [
    "-- view tri-gram frequencies\n",
    "mapM_ (putStr . show) $ take 10 $ frequencies $ ngrams 3 ciphertext"
   ]
  },
  {
   "cell_type": "code",
   "execution_count": 5,
   "metadata": {
    "vscode": {
     "languageId": "haskell"
    }
   },
   "outputs": [
    {
     "data": {
      "text/plain": [
       "OeDKLJOODKtPLAthGUFeDKLACeQLKtheWLJJeGeLYthehUJJQLKtheJLYeSUYeDTL\n",
       "FeheKDYOtheJLRDJLYeCIhLJLFeheKGUFeDKLACeGUFeDKLACeIUthDIUJJQLKthe\n",
       "CLYCLQLJOODKtPLAthQLKtheODAGhteKCLQODKtPLAththLAGhKLAYOtheGUKOJeO\n",
       "eDKththeRKLDPheKCSeJJLYthePKePDUYCtheRhDFetheCtUJJYLKthUYtheUKheD\n",
       "KtCthehUJJIUYOCUYtheUKFeUYCDYOtheGKDYUteLQYeIhDPSChUKeUYtheUKPACW\n",
       "JeCDYOtheUKTKDUYCDhUYtQLKWUSheKCUHUCtheLKOeKLQQUFePLOAJLSUCCPDJJ"
      ]
     },
     "metadata": {},
     "output_type": "display_data"
    }
   ],
   "source": [
    "-- replace \"BZV\" with \"the\"\n",
    "ciphertext1 = replace \"BZV\" \"the\" ciphertext\n",
    "print' ciphertext1"
   ]
  },
  {
   "cell_type": "code",
   "execution_count": 6,
   "metadata": {
    "vscode": {
     "languageId": "haskell"
    }
   },
   "outputs": [
    {
     "data": {
      "text/plain": [
       "OeDKaJOODKtPaAthGUFeDKaACeQaKtheWaJJeGeaYthehUJJQaKtheJaYeSUYeDTa\n",
       "FeheKDYOtheJaRDJaYeCIhaJaFeheKGUFeDKaACeGUFeDKaACeIUthDIUJJQaKthe\n",
       "CaYCaQaJOODKtPaAthQaKtheODAGhteKCaQODKtPaAththaAGhKaAYOtheGUKOJeO\n",
       "eDKththeRKaDPheKCSeJJaYthePKePDUYCtheRhDFetheCtUJJYaKthUYtheUKheD\n",
       "KtCthehUJJIUYOCUYtheUKFeUYCDYOtheGKDYUteaQYeIhDPSChUKeUYtheUKPACW\n",
       "JeCDYOtheUKTKDUYCDhUYtQaKWUSheKCUHUCtheaKOeKaQQUFePaOAJaSUCCPDJJ"
      ]
     },
     "metadata": {},
     "output_type": "display_data"
    },
    {
     "data": {
      "text/plain": [
       "-----------------------------------------------------------------"
      ]
     },
     "metadata": {},
     "output_type": "display_data"
    },
    {
     "data": {
      "text/plain": [
       "OeDKoJOODKtPoAthGUFeDKoACeQoKtheWoJJeGeoYthehUJJQoKtheJoYeSUYeDTo\n",
       "FeheKDYOtheJoRDJoYeCIhoJoFeheKGUFeDKoACeGUFeDKoACeIUthDIUJJQoKthe\n",
       "CoYCoQoJOODKtPoAthQoKtheODAGhteKCoQODKtPoAththoAGhKoAYOtheGUKOJeO\n",
       "eDKththeRKoDPheKCSeJJoYthePKePDUYCtheRhDFetheCtUJJYoKthUYtheUKheD\n",
       "KtCthehUJJIUYOCUYtheUKFeUYCDYOtheGKDYUteoQYeIhDPSChUKeUYtheUKPACW\n",
       "JeCDYOtheUKTKDUYCDhUYtQoKWUSheKCUHUCtheoKOeKoQQUFePoOAJoSUCCPDJJ"
      ]
     },
     "metadata": {},
     "output_type": "display_data"
    }
   ],
   "source": [
    "-- we can expect 'L' to map to either 'a' or 'o'\n",
    "ciphertext2a = replace \"L\" \"a\" ciphertext1\n",
    "ciphertext2b = replace \"L\" \"o\" ciphertext1\n",
    "\n",
    "print' ciphertext2a\n",
    "putStrLn \"-----------------------------------------------------------------\"\n",
    "print' ciphertext2b\n",
    "\n"
   ]
  },
  {
   "cell_type": "code",
   "execution_count": 7,
   "metadata": {
    "vscode": {
     "languageId": "haskell"
    }
   },
   "outputs": [
    {
     "data": {
      "text/plain": [
       "\"Ythe\": 1.2953367875647668\n",
       "\"oKth\": 1.2953367875647668\n",
       "\"Kthe\": 1.0362694300518134\n",
       "\"Othe\": 1.0362694300518134\n",
       "\"QoKt\": 1.0362694300518134\n",
       "\"YOth\": 1.0362694300518134\n",
       "\"eDKo\": 1.0362694300518134\n",
       "\"heUK\": 1.0362694300518134\n",
       "\"theU\": 1.0362694300518134\n",
       "\"Cthe\": 0.7772020725388601"
      ]
     },
     "metadata": {},
     "output_type": "display_data"
    }
   ],
   "source": [
    "-- view bi-gram frequencies\n",
    "mapM_ (putStr . show) $ take 10 $ frequencies $ ngrams 4 ciphertext2b"
   ]
  },
  {
   "cell_type": "code",
   "execution_count": 8,
   "metadata": {
    "vscode": {
     "languageId": "haskell"
    }
   },
   "outputs": [
    {
     "data": {
      "text/plain": [
       "OeDroJOODrtPoAthGUFeDroACeQortheWoJJeGeoYthehUJJQortheJoYeSUYeDTo\n",
       "FeherDYOtheJoRDJoYeCIhoJoFeherGUFeDroACeGUFeDroACeIUthDIUJJQorthe\n",
       "CoYCoQoJOODrtPoAthQortheODAGhterCoQODrtPoAththoAGhroAYOtheGUrOJeO\n",
       "eDrththeRroDPherCSeJJoYthePrePDUYCtheRhDFetheCtUJJYorthUYtheUrheD\n",
       "rtCthehUJJIUYOCUYtheUrFeUYCDYOtheGrDYUteoQYeIhDPSChUreUYtheUrPACW\n",
       "JeCDYOtheUrTrDUYCDhUYtQorWUSherCUHUCtheorOeroQQUFePoOAJoSUCCPDJJ"
      ]
     },
     "metadata": {},
     "output_type": "display_data"
    }
   ],
   "source": [
    "--- we see \"oKth\" as one of the most frequent four-grams. We can replace \"K\" with \"r\"\n",
    "ciphertext3 = replace \"K\" \"r\" ciphertext2b\n",
    "print' ciphertext3"
   ]
  },
  {
   "cell_type": "code",
   "execution_count": 9,
   "metadata": {
    "vscode": {
     "languageId": "haskell"
    }
   },
   "outputs": [
    {
     "data": {
      "text/plain": [
       "\"the\": 4.651162790697675\n",
       "\"eDr\": 1.550387596899225\n",
       "\"rth\": 1.550387596899225\n",
       "\"Drt\": 1.2919896640826873\n",
       "\"Qor\": 1.2919896640826873\n",
       "\"Yth\": 1.2919896640826873\n",
       "\"ort\": 1.2919896640826873\n",
       "\"Dro\": 1.0335917312661498\n",
       "\"Oth\": 1.0335917312661498\n",
       "\"UFe\": 1.0335917312661498"
      ]
     },
     "metadata": {},
     "output_type": "display_data"
    }
   ],
   "source": [
    "--\n",
    "mapM_ (putStr . show) $ take 10 $ frequencies $ ngrams 3 ciphertext3"
   ]
  },
  {
   "cell_type": "code",
   "execution_count": 10,
   "metadata": {
    "vscode": {
     "languageId": "haskell"
    }
   },
   "outputs": [
    {
     "data": {
      "text/plain": [
       "OearoJOOartPoAthGUFearoACeQortheWoJJeGeoYthehUJJQortheJoYeSUYeaTo\n",
       "FeheraYOtheJoRaJoYeCIhoJoFeherGUFearoACeGUFearoACeIUthaIUJJQorthe\n",
       "CoYCoQoJOOartPoAthQortheOaAGhterCoQOartPoAththoAGhroAYOtheGUrOJeO\n",
       "earththeRroaPherCSeJJoYthePrePaUYCtheRhaFetheCtUJJYorthUYtheUrhea\n",
       "rtCthehUJJIUYOCUYtheUrFeUYCaYOtheGraYUteoQYeIhaPSChUreUYtheUrPACW\n",
       "JeCaYOtheUrTraUYCahUYtQorWUSherCUHUCtheorOeroQQUFePoOAJoSUCCPaJJ"
      ]
     },
     "metadata": {},
     "output_type": "display_data"
    }
   ],
   "source": [
    "ciphertext4 = replace \"D\" \"a\" ciphertext3\n",
    "print' ciphertext4"
   ]
  },
  {
   "cell_type": "code",
   "execution_count": 11,
   "metadata": {
    "vscode": {
     "languageId": "haskell"
    }
   },
   "outputs": [
    {
     "data": {
      "text/plain": [
       "dearoJddartPoAthGUFearoACeQortheWoJJeGeoYthehUJJQortheJoYeSUYeaTo\n",
       "FeheraYdtheJoRaJoYeCIhoJoFeherGUFearoACeGUFearoACeIUthaIUJJQorthe\n",
       "CoYCoQoJddartPoAthQorthedaAGhterCoQdartPoAththoAGhroAYdtheGUrdJed\n",
       "earththeRroaPherCSeJJoYthePrePaUYCtheRhaFetheCtUJJYorthUYtheUrhea\n",
       "rtCthehUJJIUYdCUYtheUrFeUYCaYdtheGraYUteoQYeIhaPSChUreUYtheUrPACW\n",
       "JeCaYdtheUrTraUYCahUYtQorWUSherCUHUCtheorderoQQUFePodAJoSUCCPaJJ"
      ]
     },
     "metadata": {},
     "output_type": "display_data"
    }
   ],
   "source": [
    "ciphertext5 = replace \"O\" \"d\" ciphertext4\n",
    "print' ciphertext5"
   ]
  },
  {
   "cell_type": "code",
   "execution_count": 12,
   "metadata": {
    "vscode": {
     "languageId": "haskell"
    }
   },
   "outputs": [
    {
     "data": {
      "text/plain": [
       "dearolddartPoAthGUFearoACeQortheWolleGeoYthehUllQortheloYeSUYeaTo\n",
       "FeheraYdtheloRaloYeCIholoFeherGUFearoACeGUFearoACeIUthaIUllQorthe\n",
       "CoYCoQolddartPoAthQorthedaAGhterCoQdartPoAththoAGhroAYdtheGUrdled\n",
       "earththeRroaPherCSelloYthePrePaUYCtheRhaFetheCtUllYorthUYtheUrhea\n",
       "rtCthehUllIUYdCUYtheUrFeUYCaYdtheGraYUteoQYeIhaPSChUreUYtheUrPACW\n",
       "leCaYdtheUrTraUYCahUYtQorWUSherCUHUCtheorderoQQUFePodAloSUCCPall"
      ]
     },
     "metadata": {},
     "output_type": "display_data"
    }
   ],
   "source": [
    "ciphertext6 = replace \"J\" \"l\" ciphertext5\n",
    "print' ciphertext6"
   ]
  },
  {
   "cell_type": "code",
   "execution_count": 13,
   "metadata": {
    "vscode": {
     "languageId": "haskell"
    }
   },
   "outputs": [
    {
     "data": {
      "text/plain": [
       "dearolddartPoAthGUFearoACefortheWolleGeoYthehUllfortheloYeSUYeaTo\n",
       "FeheraYdtheloRaloYeCIholoFeherGUFearoACeGUFearoACeIUthaIUllforthe\n",
       "CoYCofolddartPoAthforthedaAGhterCofdartPoAththoAGhroAYdtheGUrdled\n",
       "earththeRroaPherCSelloYthePrePaUYCtheRhaFetheCtUllYorthUYtheUrhea\n",
       "rtCthehUllIUYdCUYtheUrFeUYCaYdtheGraYUteofYeIhaPSChUreUYtheUrPACW\n",
       "leCaYdtheUrTraUYCahUYtforWUSherCUHUCtheorderoffUFePodAloSUCCPall"
      ]
     },
     "metadata": {},
     "output_type": "display_data"
    }
   ],
   "source": [
    "ciphertext7 = replace \"Q\" \"f\" ciphertext6\n",
    "print' ciphertext7"
   ]
  },
  {
   "cell_type": "code",
   "execution_count": 14,
   "metadata": {
    "vscode": {
     "languageId": "haskell"
    }
   },
   "outputs": [
    {
     "data": {
      "text/plain": [
       "\"Ydthe\": 1.0389610389610389\n",
       "\"forth\": 1.0389610389610389\n",
       "\"orthe\": 1.0389610389610389\n",
       "\"theUr\": 1.0389610389610389\n",
       "\"Fearo\": 0.7792207792207793\n",
       "\"GUFea\": 0.7792207792207793\n",
       "\"PoAth\": 0.7792207792207793\n",
       "\"UFear\": 0.7792207792207793\n",
       "\"UYthe\": 0.7792207792207793\n",
       "\"YtheU\": 0.7792207792207793"
      ]
     },
     "metadata": {},
     "output_type": "display_data"
    }
   ],
   "source": [
    "-- view bi-gram frequencies\n",
    "mapM_ (putStr . show) $ take 10 $ frequencies $ ngrams 5 ciphertext7"
   ]
  },
  {
   "cell_type": "code",
   "execution_count": 15,
   "metadata": {
    "vscode": {
     "languageId": "haskell"
    }
   },
   "outputs": [
    {
     "data": {
      "text/plain": [
       "dearolddartPoAthGiFearoACefortheWolleGeoYthehillfortheloYeSiYeaTo\n",
       "FeheraYdtheloRaloYeCIholoFeherGiFearoACeGiFearoACeIithaIillforthe\n",
       "CoYCofolddartPoAthforthedaAGhterCofdartPoAththoAGhroAYdtheGirdled\n",
       "earththeRroaPherCSelloYthePrePaiYCtheRhaFetheCtillYorthiYtheirhea\n",
       "rtCthehillIiYdCiYtheirFeiYCaYdtheGraYiteofYeIhaPSChireiYtheirPACW\n",
       "leCaYdtheirTraiYCahiYtforWiSherCiHiCtheorderoffiFePodAloSiCCPall"
      ]
     },
     "metadata": {},
     "output_type": "display_data"
    }
   ],
   "source": [
    "ciphertext8 = replace \"U\" \"i\" ciphertext7\n",
    "print' ciphertext8"
   ]
  },
  {
   "cell_type": "code",
   "execution_count": 16,
   "metadata": {
    "vscode": {
     "languageId": "haskell"
    }
   },
   "outputs": [
    {
     "data": {
      "text/plain": [
       "\"the\": 4.651162790697675\n",
       "\"ear\": 1.550387596899225\n",
       "\"rth\": 1.550387596899225\n",
       "\"Yth\": 1.2919896640826873\n",
       "\"art\": 1.2919896640826873\n",
       "\"for\": 1.2919896640826873\n",
       "\"ort\": 1.2919896640826873\n",
       "\"Ydt\": 1.0335917312661498\n",
       "\"aro\": 1.0335917312661498\n",
       "\"dth\": 1.0335917312661498"
      ]
     },
     "metadata": {},
     "output_type": "display_data"
    }
   ],
   "source": [
    "-- view bi-gram frequencies\n",
    "mapM_ (putStr . show) $ take 10 $ frequencies $ ngrams 3 ciphertext8"
   ]
  },
  {
   "cell_type": "code",
   "execution_count": 17,
   "metadata": {
    "vscode": {
     "languageId": "haskell"
    }
   },
   "outputs": [
    {
     "data": {
      "text/plain": [
       "dearolddartPoAthGiFearoACefortheWolleGeoYthehillfortheloYeSiYeaTo\n",
       "FeheraYdtheloRaloYeCIholoFeherGiFearoACeGiFearoACeIithaIillforthe\n",
       "CoYCofolddartPoAthforthedaAGhterCofdartPoAththoAGhroAYdtheGirdled\n",
       "earththeRroaPherCSelloYthePrePaiYCtheRhaFetheCtillYorthiYtheirhea\n",
       "rtCthehillIiYdCiYtheirFeiYCaYdtheGraYiteofYeIhaPSChireiYtheirPACW\n",
       "leCaYdtheirTraiYCahiYtforWiSherCiHiCtheorderoffiFePodAloSiCCPall"
      ]
     },
     "metadata": {},
     "output_type": "display_data"
    }
   ],
   "source": [
    "ciphertext9 = replace \"Q\" \"f\" ciphertext8\n",
    "print' ciphertext9"
   ]
  },
  {
   "cell_type": "code",
   "execution_count": 18,
   "metadata": {
    "vscode": {
     "languageId": "haskell"
    }
   },
   "outputs": [
    {
     "data": {
      "text/plain": [
       "\"forthe\": 1.0416666666666667\n",
       "\"FearoA\": 0.78125\n",
       "\"GiFear\": 0.78125\n",
       "\"Ytheir\": 0.78125\n",
       "\"aYdthe\": 0.78125\n",
       "\"aroACe\": 0.78125\n",
       "\"artPoA\": 0.78125\n",
       "\"dartPo\": 0.78125\n",
       "\"earoAC\": 0.78125\n",
       "\"iFearo\": 0.78125"
      ]
     },
     "metadata": {},
     "output_type": "display_data"
    }
   ],
   "source": [
    "-- view bi-gram frequencies\n",
    "mapM_ (putStr . show) $ take 10 $ frequencies $ ngrams 6 ciphertext9"
   ]
  },
  {
   "cell_type": "code",
   "execution_count": 19,
   "metadata": {
    "vscode": {
     "languageId": "haskell"
    }
   },
   "outputs": [
    {
     "data": {
      "text/plain": [
       "dearolddartPoAthgiFearoACeforthecollegeoYthehillfortheloYeSiYeaTo\n",
       "FeheraYdtheloRaloYeCIholoFehergiFearoACegiFearoACeIithaIillforthe\n",
       "CoYCofolddartPoAthforthedaAghterCofdartPoAththoAghroAYdthegirdled\n",
       "earththeRroaPherCSelloYthePrePaiYCtheRhaFetheCtillYorthiYtheirhea\n",
       "rtCthehillIiYdCiYtheirFeiYCaYdthegraYiteofYeIhaPSChireiYtheirPACc\n",
       "leCaYdtheirTraiYCahiYtforciSherCiHiCtheorderoffiFePodAloSiCCPall"
      ]
     },
     "metadata": {},
     "output_type": "display_data"
    }
   ],
   "source": [
    "ciphertext10 = replace \"WG\" \"cg\" ciphertext9\n",
    "print' ciphertext10"
   ]
  },
  {
   "cell_type": "code",
   "execution_count": 20,
   "metadata": {
    "vscode": {
     "languageId": "haskell"
    }
   },
   "outputs": [
    {
     "data": {
      "text/plain": [
       "dearolddartmouthgiFearouCeforthecollegeonthehillfortheloneSineaTo\n",
       "FeherandtheloRaloneCIholoFehergiFearouCegiFearouCeIithaIillforthe\n",
       "ConCofolddartmouthforthedaughterCofdartmouththoughroundthegirdled\n",
       "earththeRroamherCSellonthemremainCtheRhaFetheCtillnorthintheirhea\n",
       "rtCthehillIindCintheirFeinCandthegraniteofneIhamSChireintheirmuCc\n",
       "leCandtheirTrainCahintforciSherCiHiCtheorderoffiFemoduloSiCCmall"
      ]
     },
     "metadata": {},
     "output_type": "display_data"
    }
   ],
   "source": [
    "ciphertext11 = replace \"YPA\" \"nmu\" ciphertext10\n",
    "print' ciphertext11"
   ]
  },
  {
   "cell_type": "code",
   "execution_count": 21,
   "metadata": {
    "vscode": {
     "languageId": "haskell"
    }
   },
   "outputs": [
    {
     "data": {
      "text/plain": [
       "dearolddartmouthgivearouseforthecollegeonthehillforthelonepineabo\n",
       "veherandtheloyaloneswholovehergivearousegivearousewithawillforthe\n",
       "sonsofolddartmouthforthedaughtersofdartmouththoughroundthegirdled\n",
       "earththeyroamherspellonthemremainstheyhavethestillnorthintheirhea\n",
       "rtsthehillwindsintheirveinsandthegraniteofnewhampshireintheirmusc\n",
       "lesandtheirbrainsahintforciphersixistheorderoffivemodulopissmall"
      ]
     },
     "metadata": {},
     "output_type": "display_data"
    }
   ],
   "source": [
    "ciphertext12 = replace \"FCISTRH\" \"vswpbyx\" ciphertext11\n",
    "print' ciphertext12"
   ]
  },
  {
   "cell_type": "markdown",
   "metadata": {},
   "source": [
    "# 2. Vigenere Cipher"
   ]
  },
  {
   "cell_type": "code",
   "execution_count": 54,
   "metadata": {
    "vscode": {
     "languageId": "haskell"
    }
   },
   "outputs": [
    {
     "data": {
      "text/plain": [
       "hcbxpcjlemyzlgjwagtfjhtnvvriarrqzvuqbipjrqhggrzwtfnahgkqfesrqszvo\n",
       "dyabgcwafvvrotsotdreoaqnbnfzgcbqetqloafvvnpapnqvzrzvyarnrpzgoashy\n",
       "cwzvvwaphmbssvvhyammusjhnsfwnbbhbshhuwtkjylhrangemwsjnvprdatnrpsh\n",
       "seanrumabcbbphcacygjogiainojnvvbsdmhcbqgtvjeyloavjoianmrrln"
      ]
     },
     "metadata": {},
     "output_type": "display_data"
    },
    {
     "data": {
      "text/plain": [
       "'Z'"
      ]
     },
     "metadata": {},
     "output_type": "display_data"
    },
    {
     "data": {
      "text/plain": [
       "'R'"
      ]
     },
     "metadata": {},
     "output_type": "display_data"
    },
    {
     "data": {
      "text/plain": [
       "\"YOUKNOWPEOPLETHINKTHATMATHEMATICSISCOMPLICATEDMATHEMATICSISTHESIMPLEBITITSTHESTUFFWECANUNDERSTANDITSCATSTHATARECOMPLICATEDIMEANWHATISITINTHOSELITTLEMOLECULESANDSTUFFTHATMAKEUPMAKEONECATBEHAVEDIFFERENTLYTOANOTHERORTHATMAKEACATHOWDOYOUDEFINEACATIHAVENOIDEA\""
      ]
     },
     "metadata": {},
     "output_type": "display_data"
    }
   ],
   "source": [
    "-- ShiftCipher.bruteforce \"johnconway\"\n",
    "print' VigenereCipher.cp\n",
    "\n",
    "ciphertext = VigenereCipher.cp\n",
    "\n",
    "decrypt = VigenereCipher.decrypt\n",
    "\n",
    "ShiftCipher.shiftChar 'e' 'v'\n",
    "\n",
    "ShiftCipher.shiftChar 'e' 'n'\n",
    "\n",
    "decrypt ciphertext \"johnconway\""
   ]
  },
  {
   "cell_type": "code",
   "execution_count": null,
   "metadata": {
    "vscode": {
     "languageId": "haskell"
    }
   },
   "outputs": [],
   "source": []
  },
  {
   "cell_type": "markdown",
   "metadata": {},
   "source": [
    "# 3. Affine Cipher"
   ]
  },
  {
   "cell_type": "code",
   "execution_count": 23,
   "metadata": {
    "vscode": {
     "languageId": "haskell"
    }
   },
   "outputs": [
    {
     "data": {
      "text/plain": [
       "835256124266755612260628685"
      ]
     },
     "metadata": {},
     "output_type": "display_data"
    },
    {
     "data": {
      "text/plain": [
       "False"
      ]
     },
     "metadata": {},
     "output_type": "display_data"
    },
    {
     "data": {
      "text/plain": [
       "[5,845,421655,33938589295]"
      ]
     },
     "metadata": {},
     "output_type": "display_data"
    },
    {
     "data": {
      "text/plain": [
       "167051224853351122452125737\n",
       "\n",
       "\n",
       "True\n",
       "988468786114503683148673\n",
       "\n",
       "\n",
       "True\n",
       "1980899370970949264827\n",
       "\n",
       "\n",
       "True\n",
       "24610808569754243\n",
       "\n",
       "\n",
       "True"
      ]
     },
     "metadata": {},
     "output_type": "display_data"
    },
    {
     "data": {
      "text/plain": [
       "1872648259116157"
      ]
     },
     "metadata": {},
     "output_type": "display_data"
    },
    {
     "data": {
      "text/plain": [
       "-150323401652"
      ]
     },
     "metadata": {},
     "output_type": "display_data"
    }
   ],
   "source": [
    "ciphertext = [6917141364293641, 5044493105177484, 10208794241351887, 16394322558427148,\n",
    "  11758121930809893, 15571898457877977, 7672722015089403, 13661070158473411,\n",
    "  17999297470735005, 12313955920676335, 5960590266677512, 1613421779734456,\n",
    "  1750819096862416, 3118598423638319, 14816640742963862, 4952241931583899,\n",
    "  12257144082730227, 7862771476786858, 5006500927265261, 11323114722137903,\n",
    "  22833602100630408, 8963415721169565, 15595638667025459, 8028339051359388,\n",
    "  3385708046121353, 12190779082257523, 8983375210790796, 15571898457877977,\n",
    "  15147654701575566, 16361132341028484, 5962327355151718, 8901193427034701,\n",
    "  5179568152435730, 3672045789372412, 23610469115026974, 1577294047287513,\n",
    "  15642317927380556, 15571898457877977, 10282634434851196, 10749617216933305,\n",
    "  17838746455253440, 21499666401460178, 1037344909841996, 17413814796435480,\n",
    "  16269186929768054, 10449344135634668, 24087490685235750, 10768725190149571,\n",
    "  6484888204271905, 22185358129776042, 19377417029468988, 16267449841293848,\n",
    "  16555381474675390, 21520574190817628, 14140526597210259, 19733309797334806,\n",
    "  16283129124025650, 16538093542757166, 24098448719654436, 16798515250649044,\n",
    "  13879801264995293, 10264930014031131, 7946076055449771, 18258106201941864,\n",
    "  423054714981679, 17458353983971638, 9294184051519018, 19030921054252445]\n",
    "\n",
    "c1 = 6917141364293641\n",
    "c2 = 5044493105177484\n",
    "c3 = 10208794241351887\n",
    "\n",
    "x1 = 314077111660\n",
    "x2 = 464400513312\n",
    "x3 = 495875089509\n",
    "\n",
    "xx = (x2 - x3) * (c1 - c2) - (x1 - x2) * (c2 - c3)\n",
    "xx' = -xx\n",
    "print xx'\n",
    "-- Abs.primeFactors xx'\n",
    "\n",
    "-- mapM_ (putStr . show) $ take 10 (Abs.primeFactors xx')\n",
    "-- Abs.pollardRho xx'\n",
    "-- Abs.pollardRho 167051224853351122452125737\n",
    "-- Abs.pollardRho 988468786114503683148673\n",
    "-- Abs.pollardRho 1980899370970949264827\n",
    "-- Abs.pollardRho 24610808569754243\n",
    "\n",
    "n = [167051224853351122452125737, 988468786114503683148673, 1980899370970949264827, 24610808569754243]\n",
    "\n",
    "24610808569754243 > 10 * 10208794241351887\n",
    "m :: [Integer]\n",
    "m = map (round . (xx' /)) n\n",
    "m\n",
    "\n",
    "all = foldl' (&&) True\n",
    "\n",
    "\n",
    "forM_ n $ \\x -> do\n",
    "  print x\n",
    "  putStr \"\\n\\n\"\n",
    "  let safe = all $ map (< x) ciphertext\n",
    "  print safe\n",
    "\n",
    "print $ 6917141364293641 - 5044493105177484\n",
    "print $ 314077111660 - 464400513312"
   ]
  },
  {
   "cell_type": "code",
   "execution_count": 24,
   "metadata": {
    "vscode": {
     "languageId": "haskell"
    }
   },
   "outputs": [
    {
     "data": {
      "text/plain": [
       "1"
      ]
     },
     "metadata": {},
     "output_type": "display_data"
    },
    {
     "data": {
      "text/plain": [
       "n = 24610658246352591"
      ]
     },
     "metadata": {},
     "output_type": "display_data"
    },
    {
     "data": {
      "text/plain": [
       "extended euclidean: (1,-2956845562454131,2956863623047174)"
      ]
     },
     "metadata": {},
     "output_type": "display_data"
    },
    {
     "data": {
      "text/plain": [
       "x = 289514745701"
      ]
     },
     "metadata": {},
     "output_type": "display_data"
    },
    {
     "data": {
      "text/plain": [
       "xy = 6917141364293672"
      ]
     },
     "metadata": {},
     "output_type": "display_data"
    },
    {
     "data": {
      "text/plain": [
       "c - xy = 24610808569754212"
      ]
     },
     "metadata": {},
     "output_type": "display_data"
    },
    {
     "data": {
      "text/plain": [
       "inverse x = (1,-77853851833,6618130068783420)"
      ]
     },
     "metadata": {},
     "output_type": "display_data"
    }
   ],
   "source": [
    "print $ Abs.invN 10 1\n",
    "\n",
    "printf \"n = %d\" $ 24610808569754243 - 150323401652\n",
    "\n",
    "base = 24610808569754243\n",
    "n = 24610658246352591\n",
    "\n",
    "printf \"extended euclidean: %s\" $ show $ Abs.extendedEuclidean base n\n",
    "\n",
    "printf \"x = %d\" $ Abs.mulN base 2956863623047174 1872648259116157\n",
    "\n",
    "printf \"xy = %d\" $ Abs.mulN base 289514745701 314077111660\n",
    "\n",
    "printf \"c - xy = %d\" $ Abs.subN base 6917141364293641 6917141364293672\n",
    "\n",
    "printf \"inverse x = %s\" $ show $ Abs.extendedEuclidean base 289514745701"
   ]
  },
  {
   "cell_type": "code",
   "execution_count": 25,
   "metadata": {
    "vscode": {
     "languageId": "haskell"
    }
   },
   "outputs": [
    {
     "data": {
      "text/plain": [
       "simple decryption of 10208794241351887 = 495875089509"
      ]
     },
     "metadata": {},
     "output_type": "display_data"
    },
    {
     "data": {
      "text/plain": [
       "[314077111660,464400513312,495875089509,474400107552,147495347566,139476301088,444083740788,448378660128,457135256352,499967423520,521560989800,418598166626,435493412979,477284692585,465675313518,500036083828,491260571237,430040313714,189522408819,498760574317,435626861938,139391951220,139476301170,139358200172,139224637984,452903072872,418560108902,139476301088,418531057766,491327400992,521560989806,435492757620,477284954725,434336132973,435443164281,139140559717,198107482470,139476301088,448311747872,495790679328,482906432882,189523060837,472991231861,490170117986,139208106100,477284887920,478744506912,495790679394,478427029605,465792478752,138855082355,139208106094,478689651317,495869518112,444300616237,422540943459,418463906080,444016190766,146567877736,434333118057,444216713330,452823839604,435610744174,442925215602,139106807912,435706410016,452903062867,305716535328]"
      ]
     },
     "metadata": {},
     "output_type": "display_data"
    }
   ],
   "source": [
    "\n",
    "\n",
    "sub = 24610808569754212\n",
    "mul = 6618130068783420\n",
    "\n",
    "-- decrypt\n",
    "\n",
    "x = 10208794241351887\n",
    "printf \"simple decryption of %d = %d\" x $ AffineCipher.decrypt base sub mul x\n",
    "\n",
    "AffineCipher.decryptAll base sub mul ciphertext\n",
    "\n"
   ]
  },
  {
   "cell_type": "code",
   "execution_count": 26,
   "metadata": {
    "vscode": {
     "languageId": "haskell"
    }
   },
   "outputs": [
    {
     "data": {
      "text/plain": [
       "I tel l my  stude nts,  \"When  you  get t hese  jobs  that  you h ave b een s o bri llian tly t raine d for , jus t rem ember  that  your  real  job  is th at if  you  are f ree,  you n eed t o fre e som ebody  else .  If  you  have  some  power , the n you r job  is t o emp ower  someb ody e lse.   This  is n ot ju st a  grab- bag c andy  game. \"  Th e Eni gma r ingst ellun g for  ciph er 4  is MS G."
      ]
     },
     "metadata": {},
     "output_type": "display_data"
    },
    {
     "data": {
      "text/plain": [
       "Chloe Wofford"
      ]
     },
     "metadata": {},
     "output_type": "display_data"
    }
   ],
   "source": [
    "-- def strtoint(plaintext_block):\n",
    "--   modn = [bin(ord(c))[2:] for c in plaintext_block]\n",
    "--   modn = [ ''.join(['0' for i in range(8-len(m))]) + m for m in modn]\n",
    "--   return int('0b' + ''.join(modn),2)\n",
    "\n",
    "-- # inttostr is the inverse of strtoint; it takes as input an integer encoding of a string (ASCII bytes) and returns as output the string\n",
    "-- def inttostr(int_block):\n",
    "--   # print(int_block)\n",
    "--   s = bin(int_block)[2:]\n",
    "--   # print(s)\n",
    "--   s = ''.join(['0' for i in range(8-(len(s)%8))]) + s\n",
    "--   # print(s)\n",
    "--   s = ['0b' + s[8*i:8*(i+1)] for i in range(len(s)//8)]\n",
    "--   # print(s)\n",
    "--   return ''.join([chr(int(c,2)) for c in s])\n",
    "\n",
    "-- decrypted = [314077111660,464400513312,495875089509,474400107552,147495347566,139476301088,444083740788,448378660128,457135256352,499967423520,521560989800,418598166626,435493412979,477284692585,465675313518,500036083828,491260571237,430040313714,189522408819,498760574317,435626861938,139391951220,139476301170,139358200172,139224637984,452903072872,418560108902,139476301088,418531057766,491327400992,521560989806,435492757620,477284954725,434336132973,435443164281,139140559717,198107482470,139476301088,448311747872,495790679328,482906432882,189523060837,472991231861,490170117986,139208106100,477284887920,478744506912,495790679394,478427029605,465792478752,138855082355,139208106094,478689651317,495869518112,444300616237,422540943459,418463906080,444016190766,146567877736,434333118057,444216713330,452823839604,435610744174,442925215602,139106807912,435706410016,452903062867,305716535328]\n",
    "\n",
    "-- text = [inttostr(i) for i in decrypted]\n",
    "\n",
    "-- kx = 289514745701\n",
    "-- ky = 24610808569754212\n",
    "-- key = [kx, ky]\n",
    "-- dkey = [inttostr(i) for i in key]\n",
    "-- for i in text:\n",
    "--   print(i, end = ' ')\n",
    "\n",
    "-- print(\"\\n\")\n",
    "\n",
    "-- for i in dkey:\n",
    "--   print(i, end = ' ')\n",
    "\n",
    "putStr \"I tel l my  stude nts,  \\\"When  you  get t hese  jobs  that  you h ave b een s o bri llian tly t raine d for , jus t rem ember  that  your  real  job  is th at if  you  are f ree,  you n eed t o fre e som ebody  else .  If  you  have  some  power , the n you r job  is t o emp ower  someb ody e lse.   This  is n ot ju st a  grab- bag c andy  game. \\\"  Th e Eni gma r ingst ellun g for  ciph er 4  is MS G.\"\n",
    "\n",
    "putStr \"Chloe Wofford\""
   ]
  },
  {
   "cell_type": "markdown",
   "metadata": {},
   "source": [
    "# 5. RSA"
   ]
  },
  {
   "cell_type": "code",
   "execution_count": 27,
   "metadata": {
    "vscode": {
     "languageId": "haskell"
    }
   },
   "outputs": [
    {
     "data": {
      "text/html": [
       "<style>/* Styles used for the Hoogle display in the pager */\n",
       ".hoogle-doc {\n",
       "display: block;\n",
       "padding-bottom: 1.3em;\n",
       "padding-left: 0.4em;\n",
       "}\n",
       ".hoogle-code {\n",
       "display: block;\n",
       "font-family: monospace;\n",
       "white-space: pre;\n",
       "}\n",
       ".hoogle-text {\n",
       "display: block;\n",
       "}\n",
       ".hoogle-name {\n",
       "color: green;\n",
       "font-weight: bold;\n",
       "}\n",
       ".hoogle-head {\n",
       "font-weight: bold;\n",
       "}\n",
       ".hoogle-sub {\n",
       "display: block;\n",
       "margin-left: 0.4em;\n",
       "}\n",
       ".hoogle-package {\n",
       "font-weight: bold;\n",
       "font-style: italic;\n",
       "}\n",
       ".hoogle-module {\n",
       "font-weight: bold;\n",
       "}\n",
       ".hoogle-class {\n",
       "font-weight: bold;\n",
       "}\n",
       ".get-type {\n",
       "color: green;\n",
       "font-weight: bold;\n",
       "font-family: monospace;\n",
       "display: block;\n",
       "white-space: pre-wrap;\n",
       "}\n",
       ".show-type {\n",
       "color: green;\n",
       "font-weight: bold;\n",
       "font-family: monospace;\n",
       "margin-left: 1em;\n",
       "}\n",
       ".mono {\n",
       "font-family: monospace;\n",
       "display: block;\n",
       "}\n",
       ".err-msg {\n",
       "color: red;\n",
       "font-style: italic;\n",
       "font-family: monospace;\n",
       "white-space: pre;\n",
       "display: block;\n",
       "}\n",
       "#unshowable {\n",
       "color: red;\n",
       "font-weight: bold;\n",
       "}\n",
       ".err-msg.in.collapse {\n",
       "padding-top: 0.7em;\n",
       "}\n",
       ".highlight-code {\n",
       "white-space: pre;\n",
       "font-family: monospace;\n",
       "}\n",
       ".suggestion-warning { \n",
       "font-weight: bold;\n",
       "color: rgb(200, 130, 0);\n",
       "}\n",
       ".suggestion-error { \n",
       "font-weight: bold;\n",
       "color: red;\n",
       "}\n",
       ".suggestion-name {\n",
       "font-weight: bold;\n",
       "}\n",
       "</style><div class=\"suggestion-name\" style=\"clear:both;\">Redundant bracket</div><div class=\"suggestion-row\" style=\"float: left;\"><div class=\"suggestion-warning\">Found:</div><div class=\"highlight-code\" id=\"haskell\">(Abs.powN n mA x) * posP</div></div><div class=\"suggestion-row\" style=\"float: left;\"><div class=\"suggestion-warning\">Why Not:</div><div class=\"highlight-code\" id=\"haskell\">Abs.powN n mA x * posP</div></div>"
      ],
      "text/plain": [
       "Line 41: Redundant bracket\n",
       "Found:\n",
       "(Abs.powN n mA x) * posP\n",
       "Why not:\n",
       "Abs.powN n mA x * posP"
      ]
     },
     "metadata": {},
     "output_type": "display_data"
    },
    {
     "data": {
      "text/plain": [
       "(1,295788,-19385)"
      ]
     },
     "metadata": {},
     "output_type": "display_data"
    },
    {
     "data": {
      "text/plain": [
       "1"
      ]
     },
     "metadata": {},
     "output_type": "display_data"
    },
    {
     "data": {
      "text/plain": [
       "(-1,-38674833133563245872615243372084495925507974954261038186823538120356887643006463834538916254104353012535028451429211016878,-301)"
      ]
     },
     "metadata": {},
     "output_type": "display_data"
    },
    {
     "data": {
      "text/plain": [
       "negP = 574370848784842328679841258247477447928083174314548675875021027931091811294130798833804852599130583872677012881855238226892"
      ]
     },
     "metadata": {},
     "output_type": "display_data"
    },
    {
     "data": {
      "text/plain": [
       "decrypted = 148287856838141344109395422592587418669933303609979671462598256391365083697606202170869585351243553"
      ]
     },
     "metadata": {},
     "output_type": "display_data"
    },
    {
     "data": {
      "text/plain": [
       "1175930342106065271050283250310309419316488156305401520290443548602035808283262101734292122005367394797217259116903341956086"
      ]
     },
     "metadata": {},
     "output_type": "display_data"
    },
    {
     "data": {
      "text/plain": [
       "1799306147392696606782310867010621904452538401321735738023524507758249509686120401186634973441137240046185785005515614987681"
      ]
     },
     "metadata": {},
     "output_type": "display_data"
    }
   ],
   "source": [
    "n = 2490736346492104721729722567335076257528146493316778156981974373631622149367708642633012928856521206471732646282243373960731\n",
    "e = 65537\n",
    "f = 1000003\n",
    "-- print $ Abs.extendedEuclidean n e\n",
    "-- eA' = 379062275049395799236038465089949960977550591640470960491603405749451444493851198584336648800142553265316712910555799195635\n",
    "-- print $ Abs.mulN n eA eA'\n",
    "-- print $ Abs.extendedEuclidean n eB\n",
    "-- eB' = 624809301035027332782789476537843605975147734991282093945274363699895842969958273964239932535576163999768021946420040071425\n",
    "-- print $ Abs.mulN n eB eB'\n",
    "mA = 1175930342106065271050283250310309419316488156305401520290443548602035808283262101734292122005367394797217259116903341956086\n",
    "mB = 1799306147392696606782310867010621904452538401321735738023524507758249509686120401186634973441137240046185785005515614987681\n",
    "-- dA = Abs.powN n mA eA'\n",
    "-- dB = Abs.powN n mB eB'\n",
    "\n",
    "-- printf \"dA = %d\" dA\n",
    "-- printf \"dB = %d\" dB\n",
    "\n",
    "-- print $ dB ^ eB\n",
    "-- printf \"phi n = $d\" $ Abs.phi' n\n",
    "-- printf \"phi n = %d\" $ Abs.phi n\n",
    "-- Abs.fermi n\n",
    "Abs.extendedEuclidean e f\n",
    "-- printf \"%d\" $ eA * eB\n",
    "\n",
    "print $ 295788 * e - 19385 * f\n",
    "\n",
    "-- Abs.addN n 0 (-19385)\n",
    "\n",
    "x = 295788\n",
    "y = -19385\n",
    "\n",
    "Abs.extendedEuclidean y n\n",
    "\n",
    "-- print $ Abs.addN n (Abs.mulN n e * x) (f * y)\n",
    "\n",
    "negP = Abs.powN n mB (-y)\n",
    "printf \"negP = %d\" negP\n",
    "(quot, a', b') = Abs.extendedEuclidean n negP\n",
    "posP = b' -- -556401337761795780749873534229349540641947639134298692705685418372544768452480449926418213910000320707363825780743677422132\n",
    "\n",
    "decrypted = ((Abs.powN n mA x) * posP) `mod` n\n",
    "printf \"decrypted = %d\" decrypted\n",
    "\n",
    "-- decrypted = 1583081514314960595845670857721062541401326299686994544103204912108729041871355509996620895411011543463268620160947108900639\n",
    "\n",
    "print $ Abs.powN n decrypted e\n",
    "\n",
    "print $ Abs.powN n decrypted f\n",
    "\n"
   ]
  },
  {
   "cell_type": "code",
   "execution_count": 28,
   "metadata": {
    "vscode": {
     "languageId": "haskell"
    }
   },
   "outputs": [
    {
     "ename": "",
     "evalue": "",
     "output_type": "error",
     "traceback": [
      "Parse error (line 2, column 33): parse error on input ‘in’"
     ]
    },
    {
     "ename": "",
     "evalue": "",
     "output_type": "error",
     "traceback": [
      "Parse error (line 6, column 1): parse error on input ‘#’"
     ]
    },
    {
     "ename": "",
     "evalue": "",
     "output_type": "error",
     "traceback": [
      "Parse error (line 8, column 3): parse error on input ‘#’"
     ]
    }
   ],
   "source": [
    "def strtoint(plaintext_block):\n",
    "  modn = [bin(ord(c))[2:] for c in plaintext_block]\n",
    "  modn = [ ''.join(['0' for i in range(8-len(m))]) + m for m in modn]\n",
    "  return int('0b' + ''.join(modn),2)\n",
    "\n",
    "# inttostr is the inverse of strtoint; it takes as input an integer encoding of a string (ASCII bytes) and returns as output the string\n",
    "def inttostr(int_block):\n",
    "  # print(int_block)\n",
    "  s = bin(int_block)[2:]\n",
    "  # print(s)\n",
    "  s = ''.join(['0' for i in range(8-(len(s)%8))]) + s\n",
    "  # print(s)\n",
    "  s = ['0b' + s[8*i:8*(i+1)] for i in range(len(s)//8)]\n",
    "  # print(s)\n",
    "  return ''.join([chr(int(c,2)) for c in s])\n",
    "\n",
    "\n",
    "decrypted = 148287856838141344109395422592587418669933303609979671462598256391365083697606202170869585351243553\n",
    "\n",
    "print(inttostr(decrypted))\n"
   ]
  },
  {
   "cell_type": "code",
   "execution_count": null,
   "metadata": {
    "vscode": {
     "languageId": "haskell"
    }
   },
   "outputs": [],
   "source": [
    "-- # def convert(n, base):\n",
    "-- #   highest_power = 0\n",
    "-- #   while (base ** (highest_power + 1)) < n:\n",
    "-- #     highest_power += 1\n",
    "\n",
    "-- #   quotient = n // highest_power\n",
    "-- #   if highest_power == 0:\n",
    "-- #     return quotient\n",
    "-- #   return quotient * 10 ^ highest_power + convert(highest_power - quotient, base)\n",
    "\n",
    "-- # convert(26, 26)"
   ]
  },
  {
   "cell_type": "code",
   "execution_count": 45,
   "metadata": {
    "vscode": {
     "languageId": "haskell"
    }
   },
   "outputs": [
    {
     "data": {
      "text/html": [
       "<style>/* Styles used for the Hoogle display in the pager */\n",
       ".hoogle-doc {\n",
       "display: block;\n",
       "padding-bottom: 1.3em;\n",
       "padding-left: 0.4em;\n",
       "}\n",
       ".hoogle-code {\n",
       "display: block;\n",
       "font-family: monospace;\n",
       "white-space: pre;\n",
       "}\n",
       ".hoogle-text {\n",
       "display: block;\n",
       "}\n",
       ".hoogle-name {\n",
       "color: green;\n",
       "font-weight: bold;\n",
       "}\n",
       ".hoogle-head {\n",
       "font-weight: bold;\n",
       "}\n",
       ".hoogle-sub {\n",
       "display: block;\n",
       "margin-left: 0.4em;\n",
       "}\n",
       ".hoogle-package {\n",
       "font-weight: bold;\n",
       "font-style: italic;\n",
       "}\n",
       ".hoogle-module {\n",
       "font-weight: bold;\n",
       "}\n",
       ".hoogle-class {\n",
       "font-weight: bold;\n",
       "}\n",
       ".get-type {\n",
       "color: green;\n",
       "font-weight: bold;\n",
       "font-family: monospace;\n",
       "display: block;\n",
       "white-space: pre-wrap;\n",
       "}\n",
       ".show-type {\n",
       "color: green;\n",
       "font-weight: bold;\n",
       "font-family: monospace;\n",
       "margin-left: 1em;\n",
       "}\n",
       ".mono {\n",
       "font-family: monospace;\n",
       "display: block;\n",
       "}\n",
       ".err-msg {\n",
       "color: red;\n",
       "font-style: italic;\n",
       "font-family: monospace;\n",
       "white-space: pre;\n",
       "display: block;\n",
       "}\n",
       "#unshowable {\n",
       "color: red;\n",
       "font-weight: bold;\n",
       "}\n",
       ".err-msg.in.collapse {\n",
       "padding-top: 0.7em;\n",
       "}\n",
       ".highlight-code {\n",
       "white-space: pre;\n",
       "font-family: monospace;\n",
       "}\n",
       ".suggestion-warning { \n",
       "font-weight: bold;\n",
       "color: rgb(200, 130, 0);\n",
       "}\n",
       ".suggestion-error { \n",
       "font-weight: bold;\n",
       "color: red;\n",
       "}\n",
       ".suggestion-name {\n",
       "font-weight: bold;\n",
       "}\n",
       "</style><div class=\"suggestion-name\" style=\"clear:both;\">Redundant bracket</div><div class=\"suggestion-row\" style=\"float: left;\"><div class=\"suggestion-warning\">Found:</div><div class=\"highlight-code\" id=\"haskell\">10 + (Common.charToInt x)</div></div><div class=\"suggestion-row\" style=\"float: left;\"><div class=\"suggestion-warning\">Why Not:</div><div class=\"highlight-code\" id=\"haskell\">10 + Common.charToInt x</div></div>"
      ],
      "text/plain": [
       "Line 13: Redundant bracket\n",
       "Found:\n",
       "10 + (Common.charToInt x)\n",
       "Why not:\n",
       "10 + Common.charToInt x"
      ]
     },
     "metadata": {},
     "output_type": "display_data"
    },
    {
     "data": {
      "text/plain": [
       "y^e' = 56342628068105285834414495251222356910958"
      ]
     },
     "metadata": {},
     "output_type": "display_data"
    },
    {
     "data": {
      "text/plain": [
       "160749719288161700190123505598993998089432880335841771642919072191588107115862636903096016447392312751751505493415913594707"
      ]
     },
     "metadata": {},
     "output_type": "display_data"
    },
    {
     "data": {
      "text/plain": [
       "[13,14,0,7,18,0,24,18,12,20,11,19,8,15,11,24,8,13,1,0,18,4,17,0,8,13,1,14,22]"
      ]
     },
     "metadata": {},
     "output_type": "display_data"
    },
    {
     "data": {
      "text/plain": [
       "\"NOAHSAYSMULTIPLYINBASERAINBOW\""
      ]
     },
     "metadata": {},
     "output_type": "display_data"
    }
   ],
   "source": [
    "n = 166530529432965340099271666821176530188535972283046096996016364234771423224878910478932117699610350618246947860042343417159\n",
    "e = 65537\n",
    "y = 149441402545605284082094630171037686837410554943035204389042797718540079485257006113787250895354916689260854817821121453874\n",
    "\n",
    "-- Abs.pollardRho n\n",
    "e' = 50827932011651520484699195132886676737740284931836536280441793727734881147087355424965028798253793847992240038067422171393\n",
    "\n",
    "y' = Abs.powN n y e'\n",
    "printf \"y^e' = %d\" y'\n",
    "Abs.addN n 0 (-5780810144803639909148161222182532099103091947204325353097292043183316109016273575836101252218037866495442366626429822452)\n",
    "\n",
    "y26 = \"DE07I0OICKBJ8FBO8D10I4H08D1EM\"\n",
    "y26' = map (\\x -> if isDigit x then Common.toInt x else 10 + (Common.charToInt x)) y26\n",
    "print y26'\n",
    "\n",
    "string = map (\\x -> Common.chr (Common.ord 'A' + x)) y26'\n",
    "print string"
   ]
  },
  {
   "cell_type": "code",
   "execution_count": 55,
   "metadata": {
    "vscode": {
     "languageId": "haskell"
    }
   },
   "outputs": [
    {
     "data": {
      "text/plain": [
       "46340.950001051984"
      ]
     },
     "metadata": {},
     "output_type": "display_data"
    }
   ],
   "source": [
    "p = 2147483647\n",
    "print $ sqrt p"
   ]
  }
 ],
 "metadata": {
  "language_info": {
   "name": "python"
  },
  "orig_nbformat": 4
 },
 "nbformat": 4,
 "nbformat_minor": 2
}
